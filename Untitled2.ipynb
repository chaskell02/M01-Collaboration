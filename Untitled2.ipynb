{
 "cells": [
  {
   "cell_type": "code",
   "execution_count": null,
   "id": "c6c4e443",
   "metadata": {},
   "outputs": [],
   "source": [
    "# 7.5 Capitalize the element in things that refers to a person and then print the list.\n",
    "# 7.6 Make the cheesy element of things all uppercase and then print the list.\n",
    "# 7.7 Delete the disease element from things, collect your Nobel Prize, and print the list.\n",
    "\n",
    "things = [\"mozzarella\", \"cinderella\", \"salmonella\"]\n",
    "\n",
    "# 7.5 Capitalize the element in things that refers to a person.\n",
    "person_index = things.index(\"cinderella\")\n",
    "things[person_index] = things[person_index].capitalize()\n",
    "\n",
    "# Print the list after capitalizing the person element.\n",
    "print(\"After capitalizing the person element:\")\n",
    "print(things)\n",
    "\n",
    "# 7.6 Make the cheesy element of things all uppercase.\n",
    "cheese_index = things.index(\"mozzarella\")\n",
    "things[cheese_index] = things[cheese_index].upper()\n",
    "\n",
    "# Print the list after making the cheesy element uppercase.\n",
    "print(\"\\nAfter making the cheesy element uppercase:\")\n",
    "print(things)\n",
    "\n",
    "# 7.7 Delete the disease element from things.\n",
    "disease_index = things.index(\"salmonella\")\n",
    "del things[disease_index]\n",
    "\n",
    "# Print the list after deleting the disease element.\n",
    "print(\"\\nAfter deleting the disease element:\")\n",
    "print(things)\n",
    "\n",
    "# 9.1 Define a function called good() that returns the list: ['Harry', 'Ron', 'Hermione'].\n",
    "def good():\n",
    "    return ['Harry', 'Ron', 'Hermione']\n",
    "\n",
    "# Call the function and print the result.\n",
    "result_good = good()\n",
    "print(\"Result of good():\", result_good)\n",
    "\n",
    "# 9.2 Define a generator function called get_odds() that returns the odd numbers from range(10).\n",
    "def get_odds():\n",
    "    for number in range(10):\n",
    "        if number % 2 != 0:\n",
    "            yield number\n",
    "\n",
    "# Use a for loop to find and print the third value returned.\n",
    "third_odd = None\n",
    "for index, odd_number in enumerate(get_odds()):\n",
    "    if index == 2:\n",
    "        third_odd = odd_number\n",
    "        break\n",
    "\n",
    "print(\"\\nThird odd number:\", third_odd)\n"
   ]
  }
 ],
 "metadata": {
  "kernelspec": {
   "display_name": "Python 3 (ipykernel)",
   "language": "python",
   "name": "python3"
  },
  "language_info": {
   "codemirror_mode": {
    "name": "ipython",
    "version": 3
   },
   "file_extension": ".py",
   "mimetype": "text/x-python",
   "name": "python",
   "nbconvert_exporter": "python",
   "pygments_lexer": "ipython3",
   "version": "3.11.5"
  }
 },
 "nbformat": 4,
 "nbformat_minor": 5
}
